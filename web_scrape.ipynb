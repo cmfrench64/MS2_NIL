{
 "cells": [
  {
   "cell_type": "code",
   "execution_count": 5,
   "metadata": {},
   "outputs": [],
   "source": [
    "import requests\n",
    "from bs4 import BeautifulSoup\n",
    "from selenium import webdriver\n",
    "import time\n",
    "from selenium.webdriver.common.by import By\n",
    "from selenium.webdriver.support.ui import WebDriverWait\n",
    "from selenium.webdriver.support import expected_conditions as EC"
   ]
  },
  {
   "cell_type": "markdown",
   "metadata": {},
   "source": [
    "### First Attempt just using Beautiful Soup"
   ]
  },
  {
   "cell_type": "code",
   "execution_count": 6,
   "metadata": {},
   "outputs": [],
   "source": [
    "levels = ['college', 'high-school']\n",
    "sports = ['football', 'basketball', 'baseball', 'womens-basketball', 'volleyball', 'gymnastics',\n",
    "         'mens-lacrosse', 'womens-lacrosse', 'mens-soccer', 'womens-soccer', 'softball', 'womens-track',\n",
    "         'mens-golf', 'womens-golf', 'mens-hockey', 'womens-hockey', 'mens-swimming', 'womens-swimming']\n",
    "\n",
    "all_names = []\n",
    "\n",
    "for level in levels:\n",
    "    for sport in sports:\n",
    "\n",
    "        URL = f'https://www.on3.com/nil/rankings/player/{level}/{sport}/'\n",
    "\n",
    "        page = requests.get(URL)\n",
    "        soup = BeautifulSoup(page.content, 'html.parser')\n",
    "        results = soup.find(class_=\"NilRankingsPageComponent_nilRankingsList__t14Ao\")\n",
    "\n",
    "        try:\n",
    "            names_sport = results.find_all('a', class_=\"MuiTypography-root MuiLink-root MuiLink-underlineNone MuiTypography-h5 MuiTypography-colorPrimary\")\n",
    "            for name in names_sport:\n",
    "                all_names.append(name)\n",
    "        except:\n",
    "            # print(\"Whoops! No athletes appear to have NIL deal for {} {}\".format(level, sport))\n",
    "            continue\n",
    "    #end\n",
    "#end"
   ]
  },
  {
   "cell_type": "code",
   "execution_count": 7,
   "metadata": {},
   "outputs": [
    {
     "name": "stdout",
     "output_type": "stream",
     "text": [
      "414\n"
     ]
    }
   ],
   "source": [
    "print(len(all_names))"
   ]
  },
  {
   "cell_type": "markdown",
   "metadata": {},
   "source": [
    "It looks like there were only 414 athletes using this section of the On3 database... This is such a small number of athletes that we should investiage looking at different sections of the website"
   ]
  },
  {
   "cell_type": "markdown",
   "metadata": {},
   "source": [
    "### Using Selenium & Beatuiful Soup"
   ]
  },
  {
   "cell_type": "code",
   "execution_count": 10,
   "metadata": {},
   "outputs": [],
   "source": [
    "sports = ['basketball']\n",
    "#years = ['2022','2023','2024','2025','2026']\n",
    "years = ['2023']\n",
    "\n",
    "\n",
    "urls = {}\n",
    "count = 0\n",
    "for year in years:\n",
    "    for sport in sports:\n",
    "        driver = webdriver.Chrome()\n",
    "        URL = f'https://www.on3.com/db/rankings/industry-player/{sport}/{year}/'\n",
    "        driver.get(URL)\n",
    "        while True:\n",
    "            try:\n",
    "                load_more_button = WebDriverWait(driver, 10).until(\n",
    "                    EC.element_to_be_clickable((By.XPATH, \"//span[@class='MuiButton-label' and contains(text(), 'Load More')]\"))\n",
    "                )\n",
    "                load_more_button.click()\n",
    "                time.sleep(10)\n",
    "            except:\n",
    "                break\n",
    "            \n",
    "        page_source = driver.page_source\n",
    "        page_soup = BeautifulSoup(driver.page_source, 'html.parser')\n",
    "        results = page_soup.find(class_=\"PlayerRankings_playerRankings__jvfFg\")\n",
    "        try:\n",
    "            names_sport = results.find_all('a', class_=\"MuiTypography-root MuiLink-root MuiLink-underlineHover MuiTypography-h5 MuiTypography-colorPrimary\")\n",
    "            for name in names_sport:\n",
    "                urls[name.text] = name['href']\n",
    "                count+=1\n",
    "        except:\n",
    "            continue\n",
    "\n",
    "driver.quit()"
   ]
  },
  {
   "cell_type": "code",
   "execution_count": 11,
   "metadata": {},
   "outputs": [
    {
     "name": "stdout",
     "output_type": "stream",
     "text": [
      "324\n",
      "{'Isaiah Collier': '/db/isaiah-collier-49422/', 'Justin Edwards': '/db/justin-edwards-69277/', 'Ron Holland': '/db/ron-holland-102172/', 'Aaron Bradshaw': '/db/aaron-bradshaw-350/', 'Matas Buzelis': '/db/matas-buzelis-84972/', 'Cody Williams': '/db/cody-williams-147262/', 'DJ Wagner Jr.': '/db/dj-wagner-jr-28001/', 'Stephon Castle': '/db/stephon-castle-108546/', \"Ja'Kobe Walter\": '/db/jakobe-walter-50626/', 'Omaha Biliew': '/db/omaha-biliew-94360/', 'Jared McCain': '/db/jared-mccain-56699/', 'Mackenzie Mgbako': '/db/mackenzie-mgbako-81211/', 'Elliot Cadeau': '/db/elliot-cadeau-150874/', 'Xavier Booker': '/db/xavier-booker-147256/', 'Robert Dillingham': '/db/robert-dillingham-101009/', 'Kwame Evans Jr.': '/db/kwame-evans-jr-76260/', 'Sean Stewart': '/db/sean-stewart-105663/', 'Aden Holloway': '/db/aden-holloway-1508/', 'TJ Power': '/db/tj-power-113134/', 'Caleb Foster': '/db/caleb-foster-16985/', 'Jarin Stevenson': '/db/jarin-stevenson-150824/', 'Elmarko Jackson': '/db/elmarko-jackson-145412/', 'AJ Johnson': '/db/aj-johnson-145745/', 'Andrej Stojakovic': '/db/andrej-stojakovic-147264/', 'Bronny James': '/db/bronny-james-144220/', 'Jackson Shelstad': '/db/jackson-shelstad-51693/', 'Trentyn Flowers': '/db/trentyn-flowers-150325/', 'Dennis Evans': '/db/dennis-evans-150895/', 'Yves Missi': '/db/yves-missi-150950/', 'Dink Pate': '/db/dink-pate-37116/', 'Baye Fall': '/db/baye-fall-9430/', 'Coen Carr': '/db/coen-carr-150255/', 'Mookie Cook': '/db/mookie-cook-90349/', 'Bryson Warren': '/db/bryson-warren-16131/', 'DeShawn Harris-Smith': '/db/deshawn-harris-smith-35401/', 'Dedan Thomas': '/db/dedan-thomas-150977/', 'Simeon Wilcher': '/db/simeon-wilcher-107487/', 'Reed Sheppard': '/db/reed-sheppard-99207/', 'Taison Chatman': '/db/taison-chatman-109832/', 'Garwey Dual': '/db/garwey-dual-155406/', 'Jeremy Fears': '/db/jeremy-fears-60371/', 'Devin Royal': '/db/devin-royal-150148/', 'Gavin Griffiths': '/db/gavin-griffiths-45395/', 'Brandon Garrison': '/db/brandon-garrison-12509/', 'Milan Momcilovic': '/db/milan-momcilovic-89617/', 'Layden Blocker': '/db/layden-blocker-78710/', 'Solomon Ball': '/db/solomon-ball-153478/', 'Dusty Stromer': '/db/dusty-stromer-147245/', 'Miro Little': '/db/miro-little-150304/', 'Kanaan Carlyle': '/db/kanaan-carlyle-71136/', 'Wesley Yates': '/db/wesley-yates-120516/', 'Mikey Williams': '/db/mikey-williams-89578/', 'Chris Johnson': '/db/chris-johnson-145489/', 'Scotty Middleton': '/db/scotty-middleton-105274/', 'Cameron Carr': '/db/cameron-carr-158423/', 'Eric Dailey': '/db/eric-dailey-42043/', 'Arrinten Page': '/db/arrinten-page-152773/', 'Elijah Gertrude': '/db/elijah-gertrude-155436/', 'Carey Booth': '/db/carey-booth-153349/', 'JP Estrella': '/db/jp-estrella-150992/', 'Jaylin Stewart': '/db/jaylin-stewart-59051/', 'Sebastian Mack': '/db/sebastian-mack-105760/', 'Amani Hansberry': '/db/amani-hansberry-4148/', 'Zayden High': '/db/zayden-high-147249/', 'Kaden Cooper': '/db/kaden-cooper-70363/', 'Marcus Adams Jr.': '/db/marcus-adams-jr-175932/', 'Blue Cain': '/db/blue-cain-11131/', 'Dai Dai Ames': '/db/dai-dai-ames-30867/', 'Sam Walters': '/db/sam-walters-104586/', 'Taylor Bol Bowen': '/db/taylor-bol-bowen-110711/', 'Trey Green': '/db/trey-green-116040/', 'Devin Williams': '/db/devin-williams-147232/', 'Joseph Tugler': '/db/joseph-tugler-155442/', 'Jizzle James': '/db/jizzle-james-147237/', 'Jamie Kaiser': '/db/jamie-kaiser-155120/', 'Silas Demary Jr.': '/db/silas-demary-jr-150175/', 'Jayden Ross': '/db/jayden-ross-155437/', 'Myles Colvin': '/db/myles-colvin-147269/', 'Blake Buchanan': '/db/blake-buchanan-155441/', 'Kaleb Glenn': '/db/kaleb-glenn-70701/', 'Rayvon Griffith': '/db/rayvon-griffith-99102/', 'KJ Lewis': '/db/kj-lewis-75445/', 'Gehrig Normand': '/db/gehrig-normand-155086/', 'Ilane Fibleuil': '/db/ilane-fibleuil-179507/', 'Papa Kante': '/db/papa-kante-147257/', 'Dailyn Swain': '/db/dailyn-swain-147255/', 'Ty-Laur Johnson': '/db/ty-laur-johnson-145540/', 'RJ Jones': '/db/rj-jones-145536/', 'Dylan James': '/db/dylan-james-150215/', 'Jaland Lowe': '/db/jaland-lowe-54079/', 'Brandon Williams': '/db/brandon-williams-147230/', 'Jordan Butler': '/db/jordan-butler-65278/', 'Pryce Sandfort': '/db/pryce-sandfort-96986/', 'JJ Taylor': '/db/jj-taylor-50428/', 'Curtis Williams Jr.': '/db/curtis-williams-jr-27225/', 'Rashaud Marshall': '/db/rashaud-marshall-153410/', 'Jacob McFarland': '/db/jacob-mcfarland-157325/', 'Carlton Carrington': '/db/carlton-carrington-147234/', 'Tre Norman': '/db/tre-norman-155443/', 'Jamari McDowell': '/db/jamari-mcdowell-155435/', 'Mouhamed Dioubate': '/db/mouhamed-dioubate-90492/', 'Dennis Parker': '/db/dennis-parker-34244/', 'Gabe Cupps': '/db/gabe-cupps-44492/', 'Collin Murray-Boyles': '/db/collin-murray-boyles-154434/', 'Corey Chest': '/db/corey-chest-147250/', 'Trent Pierce': '/db/trent-pierce-155440/', 'Kris Parker': '/db/kris-parker-76054/', 'Brandon Gardner': '/db/brandon-gardner-12503/', 'Reid Ducharme': '/db/reid-ducharme-147263/', 'Josh Hubbard': '/db/josh-hubbard-147259/', 'Jace Posey': '/db/jace-posey-150095/', 'Nils Cooper': '/db/nils-cooper-176073/', 'Isaiah Coleman': '/db/isaiah-coleman-147260/', 'Gus Yalden': '/db/gus-yalden-47277/', 'Drew Fielder': '/db/drew-fielder-157238/', 'Nolan Winter': '/db/nolan-winter-93915/', 'Alex Toohey': '/db/alex-toohey-174403/', 'Macaleab Rich': '/db/macaleab-rich-157620/', 'Dra Gibbs-Lawhorn': '/db/dra-gibbs-lawhorn-38759/', 'Cameron Christie': '/db/cameron-christie-17703/', 'Michael Nwoko': '/db/michael-nwoko-147241/', 'Dramane Camara': '/db/dramane-camara-177408/', 'Jacolb Cole': '/db/jacolb-cole-52400/', 'Assane Diop': '/db/assane-diop-7967/', 'Jakai Newton': '/db/jakai-newton-147268/', 'JT Rock': '/db/jt-rock-158749/', 'George Washington III': '/db/george-washington-iii-45792/', 'Ashton Hardaway': '/db/ashton-hardaway-147236/', 'Parker Friedrichsen': '/db/parker-friedrichsen-95033/', 'Justin McBride': '/db/justin-mcbride-69557/', 'Zaide Lowery': '/db/zaide-lowery-147254/', 'Jazz Gardner': '/db/jazz-gardner-59292/', 'Jelani Hamilton': '/db/jelani-hamilton-150210/', 'Tru Washington': '/db/tru-washington-147270/', 'Finley Bizjack': '/db/finley-bizjack-43811/', 'Jahnathan Lamothe': '/db/jahnathan-lamothe-53038/', 'Carl Cherenfant': '/db/carl-cherenfant-18344/', 'Jadyn Toppin': '/db/jadyn-toppin-155447/', 'Jordan Ross': '/db/jordan-ross-65978/', 'Aaron Clark': '/db/aaron-clark-406/', 'Kordelius Jefferson': '/db/kordelius-jefferson-150471/', 'Drew McKenna': '/db/drew-mckenna-156613/', 'Youssouf Singare': '/db/youssouf-singare-122402/', 'Rueben Chinyelu': '/db/rueben-chinyelu-159098/', 'Keanu Dawes': '/db/keanu-dawes-150253/', 'Akil Watson': '/db/akil-watson-2352/', 'Baye Ndongo': '/db/baye-ndongo-155449/', 'Marvel Allen': '/db/marvel-allen-84569/', 'Cade Phillips': '/db/cade-phillips-16647/', 'Al Amadou': '/db/al-amadou-147273/', 'Anthony Robinson': '/db/anthony-robinson-174453/', 'Jason Rivera-Torres': '/db/jason-rivera-torres-176078/', 'Christian Bliss': '/db/christian-bliss-175929/', 'Jamyron Keller': '/db/jamyron-keller-56354/', 'Kevin Patton Jr.': '/db/kevin-patton-jr-147223/', 'Alex Condon': '/db/alex-condon-177379/', 'Drew Steffe': '/db/drew-steffe-39188/', 'Mari Jordan': '/db/mari-jordan-145562/', 'Aaron McBride': '/db/aaron-mcbride-158459/', 'Marqus Mitrovic Marion': '/db/marqus-mitrovic-marion-175812/', 'Brady Dunlap': '/db/brady-dunlap-11856/', 'Markus Burton': '/db/markus-burton-157183/', 'Braelon Green': '/db/braelon-green-11983/', 'Darius Carr': '/db/darius-carr-30189/', 'Ladji Dembele': '/db/ladji-dembele-154258/', 'Sonny Wilson': '/db/sonny-wilson-107889/', 'Tyler Bey': '/db/tyler-bey-155576/', 'BJ Davis': '/db/bj-davis-155455/', 'Brandon Rechsteiner': '/db/brandon-rechsteiner-150392/', 'Jayden Reid': '/db/jayden-reid-150364/', 'Mikkel Tyne': '/db/mikkel-tyne-158657/', 'Bryce Lindsay': '/db/bryce-lindsay-15835/', 'Brooklyn Hicks': '/db/brooklyn-hicks-155458/', 'Juslin Bodo': '/db/juslin-bodo-156015/', 'Jordan Burks': '/db/jordan-burks-150275/', 'Jayden Hastings': '/db/jayden-hastings-58655/', 'Brock Harding': '/db/brock-harding-155479/', 'Rodney Brown': '/db/rodney-brown-153361/', 'Bron Roberts': '/db/bron-roberts-147267/', 'Cameron Barnes': '/db/cameron-barnes-17622/', 'Marquavious Brown': '/db/marquavious-brown-147251/', 'Ketraleus Aldridge': '/db/ketraleus-aldridge-153508/', 'Robert Davis': '/db/robert-davis-158695/', 'Nigle Cook': '/db/nigle-cook-180343/', 'Rahmir Barno': '/db/rahmir-barno-147258/', 'Mike Williams': '/db/mike-williams-150901/', 'Kendrick De Luna': '/db/kendrick-de-luna-152604/', 'Tyler Rolison': '/db/tyler-rolison-147231/', 'Xavier Edmonds': '/db/xavier-edmonds-155451/', 'Courtney Anderson': '/db/courtney-anderson-26736/', 'Jarred Hall': '/db/jarred-hall-57039/', 'Mayar Wol': '/db/mayar-wol-150886/', 'Owen Freeman': '/db/owen-freeman-94787/', 'Malik Presley': '/db/malik-presley-81962/', 'Justin Johnson': '/db/justin-johnson-145783/', 'Jimma James': '/db/jimma-james-147261/', 'Donovan Raymond': '/db/donovan-raymond-158677/', 'Alex Cotton': '/db/alex-cotton-152477/', 'Jason Fontenet Jr.': '/db/jason-fontenet-jr-155459/', 'Samson Aletan': '/db/samson-aletan-155492/', 'Brock Vice': '/db/brock-vice-157866/', 'Parker Strauss': '/db/parker-strauss-158437/', 'Isaiah Watts': '/db/isaiah-watts-174954/', 'Kyshawn George': '/db/kyshawn-george-179781/', 'Miles Rubin': '/db/miles-rubin-150120/', 'Austin Parks': '/db/austin-parks-147233/', 'Kayden Fish': '/db/kayden-fish-157865/', 'Chris Lockett Jr.': '/db/chris-lockett-jr-22022/', 'Isaiah West': '/db/isaiah-west-49840/', 'Carter Lang': '/db/carter-lang-18910/', 'R.J. Johnson': '/db/rj-johnson-145528/', 'Spencer Mahoney': '/db/spencer-mahoney-147272/', 'Logan Imes': '/db/logan-imes-150023/', 'Babacar Mbengue': '/db/babacar-mbengue-150898/', 'Gabe Warren': '/db/gabe-warren-150894/', 'Jaylen Curry': '/db/jaylen-curry-58844/', 'Asa Thomas': '/db/asa-thomas-147248/', 'Gai Chol': '/db/gai-chol-147271/', 'Tristan Gross': '/db/tristan-gross-147228/', 'Jacoi Hutchinson': '/db/jacoi-hutchinson-145510/', 'Thomas Haugh': '/db/thomas-haugh-155456/', 'Jeremiah Johnson': '/db/jeremiah-johnson-145436/', 'Fred Payne': '/db/fred-payne-147221/', 'Kennard Davis': '/db/kennard-davis-155460/', 'Connor Dubsky': '/db/connor-dubsky-157891/', 'Jordan Clayton': '/db/jordan-clayton-157937/', 'Avantae Parker': '/db/avantae-parker-159149/', 'Brandon White': '/db/brandon-white-13300/', 'Braeden Shrewsberry': '/db/braeden-shrewsberry-148537/', 'Paul Djobet': '/db/paul-djobet-158458/', 'Mikey Price': '/db/mikey-price-89291/', 'Kachi Nzeh': '/db/kachi-nzeh-158431/', 'Tyler Ringgold': '/db/tyler-ringgold-118010/', 'Jakwon Moore': '/db/jakwon-moore-155452/', 'Jayden Lemond': '/db/jayden-lemond-58662/', 'Osiris Grady': '/db/osiris-grady-147252/', 'Xzayvier Brown': '/db/xzayvier-brown-122277/', 'Devon Pryor': '/db/devon-pryor-174608/', 'Lawrent Rice': '/db/lawrent-rice-78690/', 'Matt Reed': '/db/matt-reed-85689/', 'Joey Hart': '/db/joey-hart-153348/', 'Devin Curtis': '/db/devin-curtis-155484/', 'Jimmy Oladokun': '/db/jimmy-oladokun-61777/', 'Jaydon Young': '/db/jaydon-young-58751/', 'Christian King': '/db/christian-king-173928/', 'Kevin Overton': '/db/kevin-overton-176075/', 'Bangot Dak': '/db/bangot-dak-235853/', 'Kedrick Osby': '/db/kedrick-osby-147222/', 'Jaylen Crocker-Johnson': '/db/jaylen-crocker-johnson-150609/', 'Bobby Durkin': '/db/bobby-durkin-156822/', 'John Blackwell': '/db/john-blackwell-153825/', 'Comeh Emuobor': '/db/comeh-emuobor-147246/', 'Malik Olafioye': '/db/malik-olafioye-81952/', 'Wesley Tubbs III': '/db/wesley-tubbs-iii-150899/', 'Jalen Hooks': '/db/jalen-hooks-54341/', 'Austin Ball': '/db/austin-ball-147266/', 'Chuck Bailey III': '/db/chuck-bailey-iii-147243/', 'Gabe Sisk': '/db/gabe-sisk-44602/', 'Isaiah Manning': '/db/isaiah-manning-147244/', 'Tyler Harris': '/db/tyler-harris-117663/', 'Trevor Smith': '/db/trevor-smith-147240/', 'JaQualon Roberts': '/db/jaqualon-roberts-155454/', 'Dalen Davis': '/db/dalen-davis-150006/', 'Vasean Allette': '/db/vasean-allette-155478/', 'Zyier Beverly': '/db/zyier-beverly-156016/', 'Eli Rice': '/db/eli-rice-157664/', 'Desmond White': '/db/desmond-white-158444/', 'Collin Tanner': '/db/collin-tanner-159032/', 'James Johns Jr.': '/db/james-johns-jr-145514/', 'Arden Conyers': '/db/arden-conyers-157619/', 'John Gamble': '/db/john-gamble-63191/', 'Cyr Malonga': '/db/cyr-malonga-147229/', 'Mier Panoam': '/db/mier-panoam-158419/', 'Gavin Marrs': '/db/gavin-marrs-162380/', 'Ryan Forrest': '/db/ryan-forrest-155496/', 'Anthony Finkley': '/db/anthony-finkley-155501/', 'Zacharie Perrin': '/db/zacharie-perrin-156464/', 'Chuck Bailey, III': '/db/chuck-bailey-iii-153339/', 'Sultan Adewale': '/db/sultan-adewale-109270/', 'Kaden Gumbs': '/db/kaden-gumbs-152476/', 'Spencer Elliott': '/db/spencer-elliott-157629/', 'Shawn Simmons': '/db/shawn-simmons-106967/', 'Braden Pierce': '/db/braden-pierce-156667/', 'Christian Hammond': '/db/christian-hammond-155476/', 'Cian Medley': '/db/cian-medley-155480/', 'Jamichael Davis': '/db/jamichael-davis-175466/', 'DK Manyiel': '/db/dk-manyiel-147247/', 'Marlon Barnes Jr.': '/db/marlon-barnes-jr-83831/', 'Davius Loury': '/db/davius-loury-150903/', 'Jacob Gazzo': '/db/jacob-gazzo-51945/', 'Connor Dow': '/db/connor-dow-158457/', 'Tichyque Musaka': '/db/tichyque-musaka-112579/', 'Alpha Chibambe': '/db/alpha-chibambe-3984/', 'Mason Manning': '/db/mason-manning-84808/', 'Josiah Dotzler': '/db/josiah-dotzler-155462/', 'Jahlil Bethea': '/db/jahlil-bethea-155482/', 'Trey Autry': '/db/trey-autry-155489/', 'Elijah Strong': '/db/elijah-strong-158460/', 'Blake Barkley': '/db/blake-barkley-162936/', 'Jahmere Tripp': '/db/jahmere-tripp-53020/', 'Adrian Meyers': '/db/adrian-meyers-158451/', 'Chase Clemmons': '/db/chase-clemmons-20617/', 'Sterling Knox': '/db/sterling-knox-155497/', 'John Broom': '/db/john-broom-62998/', 'Boden Kapke': '/db/boden-kapke-155487/', 'Riley Allenspach': '/db/riley-allenspach-155490/', 'Joey Brown': '/db/joey-brown-150902/', 'Javion Guy-King': '/db/javion-guy-king-58083/', 'Jordann Dumont': '/db/jordann-dumont-151092/', 'Jaiun Simon': '/db/jaiun-simon-155463/', 'Jayden Ndjigue': '/db/jayden-ndjigue-157755/', 'Drayton Jones': '/db/drayton-jones-158434/', 'Zion Stanford': '/db/zion-stanford-158452/', 'Petras Padegimas': '/db/petras-padegimas-177416/', 'Dallas Hobbs': '/db/dallas-hobbs-28197/', 'William Patterson': '/db/william-patterson-121333/', 'Curtis Blair': '/db/curtis-blair-27091/', 'Royal Brown': '/db/royal-brown-102620/', 'Maki Johnson': '/db/maki-johnson-145511/', 'Kenneth Lewis': '/db/kenneth-lewis-73130/', 'David Tubek': '/db/david-tubek-150897/', 'Jerry Deng': '/db/jerry-deng-155508/', 'Aric Demings': '/db/aric-demings-150907/', 'Christian Jones': '/db/christian-jones-158509/'}\n",
      "325\n"
     ]
    }
   ],
   "source": [
    "print(len(urls))\n",
    "print(urls)\n",
    "print(count)"
   ]
  },
  {
   "cell_type": "code",
   "execution_count": 12,
   "metadata": {},
   "outputs": [],
   "source": [
    "# sports = ['basketball']\n",
    "# #years = ['2022','2023','2024','2025','2026']\n",
    "# years = ['2023']\n",
    "\n",
    "\n",
    "# urls = {}\n",
    "\n",
    "# for year in years:\n",
    "#     for sport in sports:\n",
    "\n",
    "        \n",
    "            \n",
    "        # page = requests.get(URL)\n",
    "        # soup = BeautifulSoup(page.content, 'html.parser')\n",
    "        #results = soup.find(class_=\"PlayerRankings_playerRankings__jvfFg\")\n",
    "        \n",
    "        # page_soup = soup(driver.page_source, 'html.parser')\n",
    "        # print(page_soup)\n",
    "        # results = page_soup.find(class_=\"PlayerRankings_playerRankings__jvfFg\")\n",
    "        # try:\n",
    "        #     names_sport = results.find_all('a', class_=\"MuiTypography-root MuiLink-root MuiLink-underlineHover MuiTypography-h5 MuiTypography-colorPrimary\")\n",
    "        #     for name in names_sport:\n",
    "        #         urls[name.text] = name['href']\n",
    "        # except:\n",
    "        #     print(\"Whoops! No athletes appear to have NIL deal for {} {}\".format(level, sport))\n",
    "        #     continue\n",
    "    #end\n",
    "#end"
   ]
  },
  {
   "cell_type": "code",
   "execution_count": 13,
   "metadata": {},
   "outputs": [],
   "source": [
    "# all_info = {}\n",
    "\n",
    "# for name, url in urls.items():\n",
    "#     all_info[name] = []\n",
    "#     URL = f'https://www.on3.com{url}/recruiting'\n",
    "#     page = requests.get(URL)\n",
    "#     soup = BeautifulSoup(page.content, 'html.parser')\n",
    "    \n",
    "    \n",
    "    \n",
    "#     results = soup.find(class_=\"PlayerRecruiting_playergrid__wYlb_\")\n",
    "#     player_info = results.find_all('span', class_=\"MuiTypography-root MeasurementInfo_text__dCryI MuiTypography-body1 MuiTypography-colorTextPrimary\")\n",
    "#     for info in player_info:\n",
    "#         all_info[name].append(info.text)\n",
    "    \n",
    "#     results = soup.find(class_=\"Rankings_container__U2afk\")\n",
    "#     rankings_info = results.find_all('p', class_=\"MuiTypography-root Rankings_industryRating__9uavm MuiTypography-body1 MuiTypography-colorTextPrimary\")\n",
    "#     for info in rankings_info:\n",
    "#         all_info[name].append(info.text)\n",
    "    \n",
    "    \n",
    "#     results = soup.find(class_=\"PlayerInterestsModule_targets__rxz4U\")\n",
    "#     recruitment_info = results.find_all(['a','h6'], class_=[\"MuiTypography-root MuiLink-root MuiLink-underlineNone PlayerInterestsItem_teamName__FeBHv MuiTypography-h5 MuiTypography-colorPrimary\",\"MuiTypography-root PlayerInterestsItem_predictionLabel__mT201 MuiTypography-subtitle1 MuiTypography-colorTextPrimary\"])\n",
    "#     for info in  recruitment_info:\n",
    "#         all_info[name].append(info.text)\n"
   ]
  }
 ],
 "metadata": {
  "kernelspec": {
   "display_name": "venv",
   "language": "python",
   "name": "python3"
  },
  "language_info": {
   "codemirror_mode": {
    "name": "ipython",
    "version": 3
   },
   "file_extension": ".py",
   "mimetype": "text/x-python",
   "name": "python",
   "nbconvert_exporter": "python",
   "pygments_lexer": "ipython3",
   "version": "3.11.4"
  },
  "orig_nbformat": 4
 },
 "nbformat": 4,
 "nbformat_minor": 2
}
