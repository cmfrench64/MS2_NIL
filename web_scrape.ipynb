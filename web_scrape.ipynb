{
 "cells": [
  {
   "cell_type": "code",
   "execution_count": 1,
   "metadata": {},
   "outputs": [],
   "source": [
    "import requests\n",
    "from bs4 import BeautifulSoup"
   ]
  },
  {
   "cell_type": "code",
   "execution_count": 2,
   "metadata": {},
   "outputs": [
    {
     "name": "stdout",
     "output_type": "stream",
     "text": [
      "Whoops! No athletes appear to have NIL deal for college baseball\n",
      "Whoops! No athletes appear to have NIL deal for college mens-lacrosse\n",
      "Whoops! No athletes appear to have NIL deal for college womens-lacrosse\n",
      "Whoops! No athletes appear to have NIL deal for college mens-soccer\n",
      "Whoops! No athletes appear to have NIL deal for college womens-golf\n",
      "Whoops! No athletes appear to have NIL deal for college mens-hockey\n",
      "Whoops! No athletes appear to have NIL deal for college womens-hockey\n",
      "Whoops! No athletes appear to have NIL deal for college mens-swimming\n",
      "Whoops! No athletes appear to have NIL deal for college womens-swimming\n",
      "Whoops! No athletes appear to have NIL deal for high-school baseball\n",
      "Whoops! No athletes appear to have NIL deal for high-school volleyball\n",
      "Whoops! No athletes appear to have NIL deal for high-school gymnastics\n",
      "Whoops! No athletes appear to have NIL deal for high-school mens-lacrosse\n",
      "Whoops! No athletes appear to have NIL deal for high-school womens-lacrosse\n",
      "Whoops! No athletes appear to have NIL deal for high-school mens-soccer\n",
      "Whoops! No athletes appear to have NIL deal for high-school womens-soccer\n",
      "Whoops! No athletes appear to have NIL deal for high-school softball\n",
      "Whoops! No athletes appear to have NIL deal for high-school womens-track\n",
      "Whoops! No athletes appear to have NIL deal for high-school mens-golf\n",
      "Whoops! No athletes appear to have NIL deal for high-school womens-golf\n",
      "Whoops! No athletes appear to have NIL deal for high-school mens-hockey\n",
      "Whoops! No athletes appear to have NIL deal for high-school womens-hockey\n",
      "Whoops! No athletes appear to have NIL deal for high-school mens-swimming\n",
      "Whoops! No athletes appear to have NIL deal for high-school womens-swimming\n"
     ]
    }
   ],
   "source": [
    "levels = ['college', 'high-school']\n",
    "sports = ['football', 'basketball', 'baseball', 'womens-basketball', 'volleyball', 'gymnastics',\n",
    "         'mens-lacrosse', 'womens-lacrosse', 'mens-soccer', 'womens-soccer', 'softball', 'womens-track',\n",
    "         'mens-golf', 'womens-golf', 'mens-hockey', 'womens-hockey', 'mens-swimming', 'womens-swimming']\n",
    "\n",
    "all_names = []\n",
    "\n",
    "for level in levels:\n",
    "    for sport in sports:\n",
    "\n",
    "        URL = f'https://www.on3.com/nil/rankings/player/{level}/{sport}/'\n",
    "\n",
    "        page = requests.get(URL)\n",
    "        soup = BeautifulSoup(page.content, 'html.parser')\n",
    "\n",
    "        results = soup.find(class_=\"NilRankingsPageComponent_nilRankingsList__t14Ao\")\n",
    "\n",
    "        try:\n",
    "            names_sport = results.find_all('a', class_=\"MuiTypography-root MuiLink-root MuiLink-underlineNone MuiTypography-h5 MuiTypography-colorPrimary\")\n",
    "            for name in names_sport:\n",
    "                all_names.append(name)\n",
    "        except:\n",
    "            print(\"Whoops! No athletes appear to have NIL deal for {} {}\".format(level, sport))\n",
    "            continue\n",
    "    #end\n",
    "#end"
   ]
  },
  {
   "cell_type": "code",
   "execution_count": 3,
   "metadata": {},
   "outputs": [
    {
     "name": "stdout",
     "output_type": "stream",
     "text": [
      "413\n"
     ]
    }
   ],
   "source": [
    "print(len(all_names))"
   ]
  },
  {
   "cell_type": "code",
   "execution_count": null,
   "metadata": {},
   "outputs": [],
   "source": []
  }
 ],
 "metadata": {
  "kernelspec": {
   "display_name": "venv",
   "language": "python",
   "name": "python3"
  },
  "language_info": {
   "codemirror_mode": {
    "name": "ipython",
    "version": 3
   },
   "file_extension": ".py",
   "mimetype": "text/x-python",
   "name": "python",
   "nbconvert_exporter": "python",
   "pygments_lexer": "ipython3",
   "version": "3.11.4"
  },
  "orig_nbformat": 4
 },
 "nbformat": 4,
 "nbformat_minor": 2
}
