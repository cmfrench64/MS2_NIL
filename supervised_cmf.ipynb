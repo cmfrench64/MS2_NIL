{
 "cells": [
  {
   "cell_type": "code",
   "execution_count": 43,
   "metadata": {},
   "outputs": [],
   "source": [
    "import numpy as np\n",
    "import pandas as pd\n",
    "\n",
    "from sklearn.preprocessing import StandardScaler\n",
    "from sklearn.tree import DecisionTreeRegressor\n",
    "from sklearn.dummy import DummyRegressor\n",
    "from sklearn.metrics import mean_squared_error, r2_score"
   ]
  },
  {
   "cell_type": "code",
   "execution_count": 31,
   "metadata": {},
   "outputs": [],
   "source": [
    "# Since our pipeline is not up and running yet, let's just import the traintestsplit function\n",
    "from python_scripts.traintestsplit import custom_train_test_split"
   ]
  },
  {
   "cell_type": "code",
   "execution_count": 32,
   "metadata": {},
   "outputs": [
    {
     "name": "stdout",
     "output_type": "stream",
     "text": [
      "Basketball dataset shape: (137, 19), Football dataset shape: (1263, 19)\n"
     ]
    }
   ],
   "source": [
    "# Read in the cleaned CSV  for football\n",
    "df_bb = pd.read_csv(\"cleaned_files/basketball_clean_supervised.csv\")\n",
    "df_fb = pd.read_csv(\"cleaned_files/football_clean_supervised.csv\")\n",
    "\n",
    "print(\"Basketball dataset shape: {}, Football dataset shape: {}\".format(df_bb.shape,df_fb.shape))\n"
   ]
  },
  {
   "cell_type": "code",
   "execution_count": 33,
   "metadata": {},
   "outputs": [
    {
     "name": "stdout",
     "output_type": "stream",
     "text": [
      "(79, 19) (42, 19) (16, 19)\n",
      "(728, 19) (379, 19) (156, 19)\n"
     ]
    }
   ],
   "source": [
    "# Split both dataset into Train, Test, and Validation sets\n",
    "\n",
    "X_valid_bb, y_valid_bb, X_train_bb, y_train_bb, X_test_bb, y_test_bb = custom_train_test_split(df_bb)\n",
    "X_valid_fb, y_valid_fb, X_train_fb, y_train_fb, X_test_fb, y_test_fb = custom_train_test_split(df_fb)\n",
    "\n",
    "print(X_train_bb.shape, X_test_bb.shape, X_valid_bb.shape)\n",
    "print(X_train_fb.shape, X_test_fb.shape, X_valid_fb.shape)\n",
    "#print()"
   ]
  },
  {
   "cell_type": "code",
   "execution_count": null,
   "metadata": {},
   "outputs": [],
   "source": [
    "features = ['GRADE','AGE','SKILL','NUMOFF','POS','HEIGHT_IN','WEIGHT_LBS','COLLDIST_MI','NILVAL_LONG_USD','INSTA_LONG','TWIT_LONG','TIK_LONG','TOT_FOL','RECRUIT_YEAR','EXP_MONTHS','EXP_YEARS','ClassificationCode', 'REV_MEN', 'EXP_MEN']"
   ]
  },
  {
   "cell_type": "code",
   "execution_count": 34,
   "metadata": {},
   "outputs": [],
   "source": [
    "scaler_bb = StandardScaler().fit(X_train_bb[features])\n",
    "X_train_bb_norm = scaler_bb.transform(X_train_bb[features])\n",
    "X_test_bb_norm = scaler_bb.transform(X_test_bb[features])"
   ]
  },
  {
   "cell_type": "code",
   "execution_count": 37,
   "metadata": {},
   "outputs": [],
   "source": [
    "def dummy_reg(X_train,y_train,X_test,y_test):\n",
    "\n",
    "    mean_dummy = DummyRegressor(strategy=\"mean\").fit(X_train, y_train)\n",
    "    y_pred = mean_dummy.predict(X_test)\n",
    "    mse = mean_squared_error(y_test, y_pred)\n",
    "    r2 = r2_score(y_test, y_pred)\n",
    "    \n",
    "\n",
    "    return mse, r2"
   ]
  },
  {
   "cell_type": "code",
   "execution_count": 45,
   "metadata": {},
   "outputs": [
    {
     "name": "stdout",
     "output_type": "stream",
     "text": [
      "Mean squared error (dummy): 842225378213.1982\n",
      "r2_score (dummy): -0.01352419324790377\n"
     ]
    }
   ],
   "source": [
    "mse, r2 = dummy_reg(X_train_bb_norm,y_train_bb,X_test_bb_norm,y_test_bb)\n",
    "print(\"Mean squared error (dummy): {}\".format(mse))\n",
    "print(\"r2_score (dummy): {}\".format(r2))\n"
   ]
  },
  {
   "cell_type": "code",
   "execution_count": 47,
   "metadata": {},
   "outputs": [
    {
     "name": "stdout",
     "output_type": "stream",
     "text": [
      "score: -0.06411885389022354\n"
     ]
    }
   ],
   "source": [
    "clf_bb = DecisionTreeRegressor() #maybe insert random state\n",
    "clf_bb.fit(X_train_bb_norm, y_train_bb)\n",
    "score_bb = clf_bb.score(X_test_bb_norm, y_test_bb)\n",
    "print(\"score: {}\".format(score_bb))"
   ]
  },
  {
   "cell_type": "code",
   "execution_count": null,
   "metadata": {},
   "outputs": [],
   "source": []
  }
 ],
 "metadata": {
  "kernelspec": {
   "display_name": "base",
   "language": "python",
   "name": "python3"
  },
  "language_info": {
   "codemirror_mode": {
    "name": "ipython",
    "version": 3
   },
   "file_extension": ".py",
   "mimetype": "text/x-python",
   "name": "python",
   "nbconvert_exporter": "python",
   "pygments_lexer": "ipython3",
   "version": "3.9.13"
  },
  "orig_nbformat": 4
 },
 "nbformat": 4,
 "nbformat_minor": 2
}
