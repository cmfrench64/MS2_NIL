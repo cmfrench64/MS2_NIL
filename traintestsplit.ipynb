{
 "cells": [
  {
   "cell_type": "markdown",
   "metadata": {},
   "source": [
    "### Train Test Split\n",
    "\n",
    "After we have distilled our data down into one or two grand dataframes, we would like to perform a train test split. However, there are some interesting nuances in our data that we must account for:\n",
    "1. The athletes for any given year and for any given sport were ordered by their skill level (not their NIL evaluation)\n",
    "2. It could be safely assumed that more talented athletes (i.e. athletes with higher skill) are more likely to have NIL deals\n",
    "\n",
    "We need to implement a smarter version of the vanilla train_test_split that can help ensure that athletes of roughly all skill levels are included in all aspects of our splits\n",
    "\n",
    "NOTE: SIADS 543 - Week 4 Assignment 1 had the task with the custom train_test_split <br>\n",
    "      It is MANDATORY to only standardize AFTER train/test/split -- remember that these procedures take column information which would include your testing data!"
   ]
  },
  {
   "cell_type": "code",
   "execution_count": 1,
   "metadata": {},
   "outputs": [],
   "source": [
    "import pandas as pd\n",
    "from sklearn.model_selection import train_test_split\n",
    "import matplotlib.pyplot as plt"
   ]
  },
  {
   "cell_type": "code",
   "execution_count": 8,
   "metadata": {},
   "outputs": [
    {
     "data": {
      "image/png": "[encoded data removed]",
      "text/plain": [
       "<Figure size 640x480 with 1 Axes>"
      ]
     },
     "metadata": {},
     "output_type": "display_data"
    }
   ],
   "source": [
    "df = pd.read_csv(\"cleaned_files/basketball_clean_unsupervised.csv\")\n",
    "\n",
    "df[\"SKILL\"].plot.hist()\n",
    "\n",
    "plt.xlabel(\"Skill Level\")\n",
    "plt.ylabel(\"Frequency\")\n",
    "plt.title(\"Histogram of SKILL_ Column\")\n",
    "\n",
    "plt.show()"
   ]
  },
  {
   "cell_type": "code",
   "execution_count": 9,
   "metadata": {},
   "outputs": [
    {
     "data": {
      "text/plain": [
       "(1375, 26)"
      ]
     },
     "execution_count": 9,
     "metadata": {},
     "output_type": "execute_result"
    }
   ],
   "source": [
    "df.shape"
   ]
  },
  {
   "cell_type": "code",
   "execution_count": 10,
   "metadata": {},
   "outputs": [
    {
     "data": {
      "text/plain": [
       "(59, 26)"
      ]
     },
     "execution_count": 10,
     "metadata": {},
     "output_type": "execute_result"
    }
   ],
   "source": [
    "dfNoNan = df.dropna()\n",
    "dfNoNan.shape"
   ]
  },
  {
   "cell_type": "code",
   "execution_count": 11,
   "metadata": {},
   "outputs": [],
   "source": [
    "def custom_train_test_split(df, valid_size_=0.15, test_size_=0.15, RANDOM_STATE=0):\n",
    "    \"\"\"\n",
    "    :: Input(s) ::\n",
    "        df - a dataframe containing all of the features and the target feature\n",
    "        valid_size - the subset of the remaining training set after the test set was formed\n",
    "        test_size - the size ofthe validation when compared to the training set\n",
    "        RANDOM_STATE - a random state for this function to promote repeatability\n",
    "    :: Output(s) ::\n",
    "        X_train - training feature dataframe\n",
    "        X_valid - validation feature dataframe\n",
    "        X_test - testing feature dataframe\n",
    "        y_train - training target feature\n",
    "        y_valid - validation target feature\n",
    "        y_test - testing target feature\n",
    "    :: Function Description ::\n",
    "        'custom_train_test_split' looks to take a cleaned dataframe and split it into the various training, validating, and testing datasets.\n",
    "    \"\"\"\n",
    "    # Transform the continuous \"SKILL_\" column into a categorical such that it could be binned\n",
    "    bins = [0, 80, 85, 90, 95, 100]\n",
    "    labels = [\n",
    "        \"Very Low Skill\",\n",
    "        \"Low Skill\",\n",
    "        \"Medium Skill\",\n",
    "        \"High Skill\",\n",
    "        \"Very High Skill\",\n",
    "    ]\n",
    "    df = df.copy()\n",
    "    df[\"SKILL_CAT\"] = pd.cut(df[\"SKILL\"], bins=bins, labels=labels).astype(str)\n",
    "\n",
    "    # Shuffle the dataframe\n",
    "    df = df.sample(frac=1, random_state=RANDOM_STATE)\n",
    "\n",
    "    # Get our X and y arrays\n",
    "    # Target Feature: NILVAL_LONG_USD\n",
    "\n",
    "    y = df.pop(\"NILVAL_LONG_USD\")\n",
    "    X = df\n",
    "\n",
    "    # Split the data into testing and non-testing\n",
    "    X_train_valid, X_test, y_train_valid, y_test = train_test_split(\n",
    "        X,\n",
    "        y,\n",
    "        train_size=(1 - valid_size_ - test_size_),\n",
    "        stratify=X[\"SKILL_CAT\"],\n",
    "        random_state=RANDOM_STATE,\n",
    "    )\n",
    "\n",
    "    # Split the non-testing data into training and validation\n",
    "    X_train, X_valid, y_train, y_valid = train_test_split(\n",
    "        X_train_valid,\n",
    "        y_train_valid,\n",
    "        train_size=valid_size_ / (1 - valid_size_),\n",
    "        stratify=X_train_valid[\"SKILL_CAT\"],\n",
    "        random_state=RANDOM_STATE,\n",
    "    )\n",
    "\n",
    "    return X_train, y_train, X_valid, y_valid, X_test, y_test"
   ]
  },
  {
   "cell_type": "code",
   "execution_count": 12,
   "metadata": {},
   "outputs": [],
   "source": [
    "X_train, y_train, X_valid, y_valid, X_test, y_test = custom_train_test_split(df=dfNoNan)"
   ]
  },
  {
   "cell_type": "code",
   "execution_count": null,
   "metadata": {},
   "outputs": [],
   "source": []
  }
 ],
 "metadata": {
  "kernelspec": {
   "display_name": "venv",
   "language": "python",
   "name": "python3"
  },
  "language_info": {
   "codemirror_mode": {
    "name": "ipython",
    "version": 3
   },
   "file_extension": ".py",
   "mimetype": "text/x-python",
   "name": "python",
   "nbconvert_exporter": "python",
   "pygments_lexer": "ipython3",
   "version": "3.11.5"
  },
  "orig_nbformat": 4
 },
 "nbformat": 4,
 "nbformat_minor": 2
}
