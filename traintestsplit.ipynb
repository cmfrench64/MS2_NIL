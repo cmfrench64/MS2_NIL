{
 "cells": [
  {
   "cell_type": "markdown",
   "metadata": {},
   "source": [
    "### Train Test Split\n",
    "\n",
    "After we have distilled our data down into one or two grand dataframes, we would like to perform a train test split. However, there are some interesting nuances in our data that we must account for:\n",
    "1. The athletes for any given year and for any given sport were ordered by their skill level (not their NIL evaluation)\n",
    "2. It could be safely assumed that more talented athletes (i.e. athletes with higher skill) are more likely to have NIL deals\n",
    "\n",
    "We need to implement a smarter version of the vanilla train_test_split that can help ensure that athletes of roughly all skill levels are included in all aspects of our splits\n",
    "\n",
    "NOTE: SIADS 543 - Week 4 Assignment 1 had the task with the custom train_test_split <br>\n",
    "      It is MANDATORY to only standardize AFTER train/test/split -- remember that these procedures take column information which would include your testing data!"
   ]
  },
  {
   "cell_type": "code",
   "execution_count": 1,
   "metadata": {},
   "outputs": [],
   "source": [
    "import pandas as pd\n",
    "from sklearn.model_selection import train_test_split\n",
    "import matplotlib.pyplot as plt"
   ]
  },
  {
   "cell_type": "code",
   "execution_count": 2,
   "metadata": {},
   "outputs": [
    {
     "ename": "KeyError",
     "evalue": "'SKILL_'",
     "output_type": "error",
     "traceback": [
      "\u001b[0;31m---------------------------------------------------------------------------\u001b[0m",
      "\u001b[0;31mKeyError\u001b[0m                                  Traceback (most recent call last)",
      "File \u001b[0;32m~/Documents/mvizzini951/MS2_NIL/venv/lib/python3.11/site-packages/pandas/core/indexes/base.py:3790\u001b[0m, in \u001b[0;36mIndex.get_loc\u001b[0;34m(self, key)\u001b[0m\n\u001b[1;32m   3789\u001b[0m \u001b[39mtry\u001b[39;00m:\n\u001b[0;32m-> 3790\u001b[0m     \u001b[39mreturn\u001b[39;00m \u001b[39mself\u001b[39;49m\u001b[39m.\u001b[39;49m_engine\u001b[39m.\u001b[39;49mget_loc(casted_key)\n\u001b[1;32m   3791\u001b[0m \u001b[39mexcept\u001b[39;00m \u001b[39mKeyError\u001b[39;00m \u001b[39mas\u001b[39;00m err:\n",
      "File \u001b[0;32mindex.pyx:152\u001b[0m, in \u001b[0;36mpandas._libs.index.IndexEngine.get_loc\u001b[0;34m()\u001b[0m\n",
      "File \u001b[0;32mindex.pyx:181\u001b[0m, in \u001b[0;36mpandas._libs.index.IndexEngine.get_loc\u001b[0;34m()\u001b[0m\n",
      "File \u001b[0;32mpandas/_libs/hashtable_class_helper.pxi:7080\u001b[0m, in \u001b[0;36mpandas._libs.hashtable.PyObjectHashTable.get_item\u001b[0;34m()\u001b[0m\n",
      "File \u001b[0;32mpandas/_libs/hashtable_class_helper.pxi:7088\u001b[0m, in \u001b[0;36mpandas._libs.hashtable.PyObjectHashTable.get_item\u001b[0;34m()\u001b[0m\n",
      "\u001b[0;31mKeyError\u001b[0m: 'SKILL_'",
      "\nThe above exception was the direct cause of the following exception:\n",
      "\u001b[0;31mKeyError\u001b[0m                                  Traceback (most recent call last)",
      "\u001b[1;32m/Users/mvizzini/Documents/mvizzini951/MS2_NIL/traintestsplit.ipynb Cell 3\u001b[0m line \u001b[0;36m3\n\u001b[1;32m      <a href='vscode-notebook-cell:/Users/mvizzini/Documents/mvizzini951/MS2_NIL/traintestsplit.ipynb#W2sZmlsZQ%3D%3D?line=0'>1</a>\u001b[0m df \u001b[39m=\u001b[39m pd\u001b[39m.\u001b[39mread_csv(\u001b[39m\"\u001b[39m\u001b[39mcsv_files/football_2022.csv\u001b[39m\u001b[39m\"\u001b[39m)\n\u001b[0;32m----> <a href='vscode-notebook-cell:/Users/mvizzini/Documents/mvizzini951/MS2_NIL/traintestsplit.ipynb#W2sZmlsZQ%3D%3D?line=2'>3</a>\u001b[0m df[\u001b[39m\"\u001b[39;49m\u001b[39mSKILL_\u001b[39;49m\u001b[39m\"\u001b[39;49m]\u001b[39m.\u001b[39mplot\u001b[39m.\u001b[39mhist()\n\u001b[1;32m      <a href='vscode-notebook-cell:/Users/mvizzini/Documents/mvizzini951/MS2_NIL/traintestsplit.ipynb#W2sZmlsZQ%3D%3D?line=4'>5</a>\u001b[0m plt\u001b[39m.\u001b[39mxlabel(\u001b[39m\"\u001b[39m\u001b[39mSkill Level\u001b[39m\u001b[39m\"\u001b[39m)\n\u001b[1;32m      <a href='vscode-notebook-cell:/Users/mvizzini/Documents/mvizzini951/MS2_NIL/traintestsplit.ipynb#W2sZmlsZQ%3D%3D?line=5'>6</a>\u001b[0m plt\u001b[39m.\u001b[39mylabel(\u001b[39m\"\u001b[39m\u001b[39mFrequency\u001b[39m\u001b[39m\"\u001b[39m)\n",
      "File \u001b[0;32m~/Documents/mvizzini951/MS2_NIL/venv/lib/python3.11/site-packages/pandas/core/frame.py:3896\u001b[0m, in \u001b[0;36mDataFrame.__getitem__\u001b[0;34m(self, key)\u001b[0m\n\u001b[1;32m   3894\u001b[0m \u001b[39mif\u001b[39;00m \u001b[39mself\u001b[39m\u001b[39m.\u001b[39mcolumns\u001b[39m.\u001b[39mnlevels \u001b[39m>\u001b[39m \u001b[39m1\u001b[39m:\n\u001b[1;32m   3895\u001b[0m     \u001b[39mreturn\u001b[39;00m \u001b[39mself\u001b[39m\u001b[39m.\u001b[39m_getitem_multilevel(key)\n\u001b[0;32m-> 3896\u001b[0m indexer \u001b[39m=\u001b[39m \u001b[39mself\u001b[39;49m\u001b[39m.\u001b[39;49mcolumns\u001b[39m.\u001b[39;49mget_loc(key)\n\u001b[1;32m   3897\u001b[0m \u001b[39mif\u001b[39;00m is_integer(indexer):\n\u001b[1;32m   3898\u001b[0m     indexer \u001b[39m=\u001b[39m [indexer]\n",
      "File \u001b[0;32m~/Documents/mvizzini951/MS2_NIL/venv/lib/python3.11/site-packages/pandas/core/indexes/base.py:3797\u001b[0m, in \u001b[0;36mIndex.get_loc\u001b[0;34m(self, key)\u001b[0m\n\u001b[1;32m   3792\u001b[0m     \u001b[39mif\u001b[39;00m \u001b[39misinstance\u001b[39m(casted_key, \u001b[39mslice\u001b[39m) \u001b[39mor\u001b[39;00m (\n\u001b[1;32m   3793\u001b[0m         \u001b[39misinstance\u001b[39m(casted_key, abc\u001b[39m.\u001b[39mIterable)\n\u001b[1;32m   3794\u001b[0m         \u001b[39mand\u001b[39;00m \u001b[39many\u001b[39m(\u001b[39misinstance\u001b[39m(x, \u001b[39mslice\u001b[39m) \u001b[39mfor\u001b[39;00m x \u001b[39min\u001b[39;00m casted_key)\n\u001b[1;32m   3795\u001b[0m     ):\n\u001b[1;32m   3796\u001b[0m         \u001b[39mraise\u001b[39;00m InvalidIndexError(key)\n\u001b[0;32m-> 3797\u001b[0m     \u001b[39mraise\u001b[39;00m \u001b[39mKeyError\u001b[39;00m(key) \u001b[39mfrom\u001b[39;00m \u001b[39merr\u001b[39;00m\n\u001b[1;32m   3798\u001b[0m \u001b[39mexcept\u001b[39;00m \u001b[39mTypeError\u001b[39;00m:\n\u001b[1;32m   3799\u001b[0m     \u001b[39m# If we have a listlike key, _check_indexing_error will raise\u001b[39;00m\n\u001b[1;32m   3800\u001b[0m     \u001b[39m#  InvalidIndexError. Otherwise we fall through and re-raise\u001b[39;00m\n\u001b[1;32m   3801\u001b[0m     \u001b[39m#  the TypeError.\u001b[39;00m\n\u001b[1;32m   3802\u001b[0m     \u001b[39mself\u001b[39m\u001b[39m.\u001b[39m_check_indexing_error(key)\n",
      "\u001b[0;31mKeyError\u001b[0m: 'SKILL_'"
     ]
    }
   ],
   "source": [
    "# df = pd.read_csv(\"csv_files/football_2022.csv\")\n",
    "\n",
    "# df[\"SKILL_\"].plot.hist()\n",
    "\n",
    "# plt.xlabel(\"Skill Level\")\n",
    "# plt.ylabel(\"Frequency\")\n",
    "# plt.title(\"Histogram of SKILL_ Column\")\n",
    "\n",
    "# plt.show()"
   ]
  },
  {
   "cell_type": "code",
   "execution_count": 3,
   "metadata": {},
   "outputs": [],
   "source": [
    "def custom_train_test_split(df, valid_size_=0.15, test_size_=0.15, RANDOM_STATE=0):\n",
    "    \"\"\"\n",
    "        :: Input(s) ::\n",
    "            df - a dataframe containing all of the features and the target feature\n",
    "            valid_size - the subset of the remaining training set after the test set was formed\n",
    "            test_size - the size ofthe validation when compared to the training set\n",
    "            RANDOM_STATE - a random state for this function to promote repeatability\n",
    "        :: Output(s) ::\n",
    "            X_train - training feature dataframe\n",
    "            X_valid - validation feature dataframe\n",
    "            X_test - testing feature dataframe\n",
    "            y_train - training target feature\n",
    "            y_valid - validation target feature\n",
    "            y_test - testing target feature\n",
    "    \"\"\"\n",
    "    # Transform the continuous \"SKILL_\" column into a categorical such that it could be binned\n",
    "    bins = [0, 80, 85, 90, 95, 100]\n",
    "    labels = ['Very Low Skill', 'Low Skill', 'Medium Skill', 'High Skill', 'Very High Skill']\n",
    "    df[\"SKILL_CAT\"] = pd.cut(df[\"SKILL_\"], bins=bins, labels=labels)\n",
    "\n",
    "    # Shuffle the dataframe\n",
    "    df = df.sample(frac=1, random_state=RANDOM_STATE)\n",
    "\n",
    "    # Get our X and y arrays\n",
    "    # Target Feature: NILVAL_LONG_USD\n",
    "\n",
    "    y = df.pop(\"NILVAL_LONG_USD\")\n",
    "    X = df\n",
    "\n",
    "    # Split the data into testing and non-testing\n",
    "    X_train_valid, y_train_valid, X_test, y_test = train_test_split(X, y, train_size=(1-valid_size_-test_size_),\n",
    "                                                                    stratify=X[\"SKILL_CAT\"],\n",
    "                                                                    random_state=RANDOM_STATE)\n",
    "    \n",
    "    # Split the non-testing data into training and validation\n",
    "    X_train, y_train, X_valid, y_valid = train_test_split(X_train_valid, y_train_valid,\n",
    "                                                          train_size=(1-valid_size_),\n",
    "                                                          stratify=X[\"SKILL_CAT\"],\n",
    "                                                          random_state=RANDOM_STATE)\n",
    "\n",
    "    return X_train, y_train, X_valid, y_valid, X_test, y_test"
   ]
  },
  {
   "cell_type": "code",
   "execution_count": null,
   "metadata": {},
   "outputs": [],
   "source": []
  }
 ],
 "metadata": {
  "kernelspec": {
   "display_name": "venv",
   "language": "python",
   "name": "python3"
  },
  "language_info": {
   "codemirror_mode": {
    "name": "ipython",
    "version": 3
   },
   "file_extension": ".py",
   "mimetype": "text/x-python",
   "name": "python",
   "nbconvert_exporter": "python",
   "pygments_lexer": "ipython3",
   "version": "3.11.5"
  },
  "orig_nbformat": 4
 },
 "nbformat": 4,
 "nbformat_minor": 2
}
