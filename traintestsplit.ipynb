{
 "cells": [
  {
   "cell_type": "markdown",
   "metadata": {},
   "source": [
    "### Train Test Split\n",
    "\n",
    "After we have distilled our data down into one or two grand dataframes, we would like to perform a train test split. However, there are some interesting nuances in our data that we must account for:\n",
    "1. The athletes for any given year and for any given sport were ordered by their skill level (not their NIL evaluation)\n",
    "2. It could be safely assumed that more talented athletes (i.e. athletes with higher skill) are more likely to have NIL deals\n",
    "\n",
    "We need to implement a smarter version of the vanilla train_test_split that can help ensure that athletes of roughly all skill levels are included in all aspects of our splits"
   ]
  },
  {
   "cell_type": "code",
   "execution_count": null,
   "metadata": {},
   "outputs": [],
   "source": [
    "def custom_train_test_split(df, valid_size=0.15, test_size=0.15):\n",
    "    \"\"\"\n",
    "        :: Input(s) ::\n",
    "            df - a dataframe containing all of the features and the target feature\n",
    "        :: Output(s) ::\n",
    "            X_train - training feature dataframe\n",
    "            X_valid - validation feature dataframe\n",
    "            X_test - testing feature dataframe\n",
    "            y_train - training target feature\n",
    "            y_valid - validation target feature\n",
    "            y_test - testing target feature\n",
    "    \"\"\"\n",
    "    bins = []\n",
    "    labels = []\n",
    "\n",
    "    return None"
   ]
  }
 ],
 "metadata": {
  "kernelspec": {
   "display_name": "venv",
   "language": "python",
   "name": "python3"
  },
  "language_info": {
   "name": "python",
   "version": "3.11.5"
  },
  "orig_nbformat": 4
 },
 "nbformat": 4,
 "nbformat_minor": 2
}
