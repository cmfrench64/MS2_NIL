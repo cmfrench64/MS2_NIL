{
 "cells": [
  {
   "cell_type": "markdown",
   "metadata": {},
   "source": [
    "## Unsupervised Learning\n",
    "\n",
    "In this section we begin exploring some unsupervised learning concepts.\n",
    "\n",
    "We have two main goals from this section:\n",
    "1. Feature Importance Determination\n",
    "2. Identifiying Similiar Player Profiles of athletes with and without NIL Evaluations"
   ]
  },
  {
   "cell_type": "code",
   "execution_count": 1,
   "metadata": {},
   "outputs": [],
   "source": [
    "from sklearn.cluster import KMeans\n",
    "from sklearn.preprocessing import MinMaxScaler, StandardScaler"
   ]
  },
  {
   "cell_type": "markdown",
   "metadata": {},
   "source": [
    "#### Feature Importance Determination\n",
    "\n",
    "The outputs of this feature importance determination will be crucial in plotting and visualizing things from the KMeans Effort Below!\n",
    "\n",
    "Since our goal is to reduce our problem down for visualization purposes we are going to explore options in which the number of components is either 2 or 3 although a further analysis regarding the importance of features should also be performed.\n",
    "\n",
    "- Principal Components Analysis (PCA)\n",
    "    - \n",
    "- Multidimensional Scaling (MDS)\n",
    "    - Distance preserving low-dimensional projection\n",
    "    - Locally influenced\n",
    "    - If clusters are far apart in the OG data, then they will be far apart in the MDS projection\n",
    "    - weights can be introduced to handle missing data in MDS! We have lots of missing data in this project...\n",
    "- t-Distributed Stochastic Neighbor Embedding (t-SNE)\n",
    "    - Finds a low-dim output\n",
    "    - Preserves similiaries in high-dim data\n",
    "    - It is focused on preserving LOCAL DISTANCES between neighbors, not so much global structure\n",
    "    - Perplexity is the key parameter\n",
    "        - Experiment with multiple values here!\n",
    "    - Can give different output everytime it runs!\n",
    "- Uniform Manifold Approximation & Projection (UMAP)\n",
    "    - Similiar to t-SNE --> Preserves local neighborhood structure\n",
    "    - But it also preserves some global structure too!\n",
    "    - It is a useful technique for plotting AS WELL AS clustering whereas t-SNE should not be used in clustering...\n",
    "\n",
    "\n",
    "It is sometimes good for very large, high-dimensional datasets to use PCA and then apply t-SNE/UMAP after!"
   ]
  },
  {
   "cell_type": "code",
   "execution_count": null,
   "metadata": {},
   "outputs": [],
   "source": [
    "# ===== MDS =====\n",
    "from sklearn.manifold import MDS\n",
    "# X_norm = StandardScaler().fit_transform(X_not_norm)\n",
    "\n",
    "# mds = MDS(n_components=2)\n",
    "# X_mds = mds.fit_transform(X_norm)\n",
    "\n",
    "# plot(X_mds, output, [NAMES_OF_CLUSTERS])\n",
    "# ===============\n",
    "\n",
    "# ==== tSNE =====\n",
    "from sklearn.manifold import TSNE\n",
    "# tsne = TSNE(random_state=0)\n",
    "# X_tsne = tsne.fit_transform(X_norm)\n",
    "\n",
    "# plot(X_tsne, output, [NAMES_OF_CLUSTERS])\n",
    "# ==============="
   ]
  },
  {
   "cell_type": "markdown",
   "metadata": {},
   "source": [
    "#### Similiar Player Profiles"
   ]
  },
  {
   "cell_type": "markdown",
   "metadata": {},
   "source": [
    "Notes regarding KMeans clustering:\n",
    "- Different intializations can result in different solutions. Performing multiple runs is a good idea.\n",
    "    - Be careful about where you start\n",
    "    - Could place the first one randomly and the next one could be as far away as possible\n",
    "- Centroid is typically the mean of the points in the cluster.\n",
    "    - This works only when the values are continuous in nature. K-Medoid can be used if non-continuous columns are used.\n",
    "- \"Closeness\" can take the form of Euclidean Distance, Cosine Similiarity, Correlation, etc\n",
    "\n",
    "KMeans works well on simple clusters that are similiar in size, well seperated, and globular. Complex shapes... not so much...\n",
    "\n",
    "##### Visualization Tips\n",
    "\n",
    "When it comes to plotting this data it will be difficult to use normal ol KMeans because our data has lots of columns.\n",
    "- PCA would work to reduce the data down to maybe two principal components\n",
    "- t-SNE would also work to reduce the visualization down to something that is more interpretable"
   ]
  },
  {
   "cell_type": "code",
   "execution_count": null,
   "metadata": {},
   "outputs": [],
   "source": [
    "# We must specifiy the number of clusters, K, in advance\n",
    "# We need to pick K clusters as well as the K points that will act as the initial centroid\n",
    "\n",
    "def Custom_KMeans(X_train, RANDOM_STATE=0):\n",
    "    \"\"\"\n",
    "        :: Input(s) ::\n",
    "            X_train - training data\n",
    "        :: Output(s) ::\n",
    "            A scatter plot showing the clustering\n",
    "    \"\"\"\n",
    "\n",
    "    # Remember that X_train does not contain any NIL information, that is perfectly okay because we are interested in all athletes\n",
    "    # regardless of their NIL evaluation\n",
    "\n",
    "    # We may want to normalize the features we have in some way, shape, or form...\n",
    "    X = X_train\n",
    "    X_normalized = MinMaxScaler().fit_transform(X)\n",
    "\n",
    "    # KMeans Setup\n",
    "    clusters = 5\n",
    "    kmeans = KMeans(n_clusters=clusters,\n",
    "                    random_state=RANDOM_STATE)\n",
    "    kmeans.fit(X)\n",
    "\n",
    "    # kmeans.labels_\n",
    "\n",
    "    # PCA or T-SNE Setup\n",
    "\n",
    "    return None"
   ]
  }
 ],
 "metadata": {
  "kernelspec": {
   "display_name": "venv",
   "language": "python",
   "name": "python3"
  },
  "language_info": {
   "codemirror_mode": {
    "name": "ipython",
    "version": 3
   },
   "file_extension": ".py",
   "mimetype": "text/x-python",
   "name": "python",
   "nbconvert_exporter": "python",
   "pygments_lexer": "ipython3",
   "version": "3.11.5"
  },
  "orig_nbformat": 4
 },
 "nbformat": 4,
 "nbformat_minor": 2
}
